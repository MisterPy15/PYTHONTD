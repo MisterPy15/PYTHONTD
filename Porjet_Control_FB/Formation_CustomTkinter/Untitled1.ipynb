{
 "cells": [
  {
   "cell_type": "code",
   "execution_count": null,
   "id": "bbe5be42-b267-4ed4-b134-58aa5eaf14c3",
   "metadata": {
    "tags": []
   },
   "outputs": [],
   "source": [
    "import numpy as np\n",
    "import matplotlib.pyplot as plt\n",
    "from sklearn.linear_model import LinearRegression\n",
    "\n",
    "# Tailles des pizzas\n",
    "X = np.array([[6], [8], [10], [14], [18]])\n",
    "\n",
    "# Prix correspondants\n",
    "y = [7, 9, 13, 17.5, 18]\n",
    "\n",
    "# Création du modèle de régression linéaire\n",
    "model = LinearRegression()\n",
    "\n",
    "# Entraînement du modèle\n",
    "model.fit(X, y)\n",
    "\n",
    "# Prédiction des prix\n",
    "y_pred = model.predict(X)\n",
    "\n",
    "# Affichage des résultats\n",
    "plt.scatter(X, y, color='blue')  # Données réelles\n",
    "plt.plot(X, y_pred, color='red')  # Prédictions du modèle\n",
    "plt.xlabel('Tailles en cm')\n",
    "plt.ylabel('Prix en euros')\n",
    "plt.title('Régression linéaire: Prix des pizzas en fonction de leur taille')\n",
    "plt.show()\n",
    "\n",
    "# Calcul de la somme résiduelle des carrés (RSS)\n",
    "rss = np.sum((y - y_pred) ** 2)\n",
    "rss = round(rss, 2)\n",
    "print(f'Residual sum of squares: {rss}')\n",
    "\n",
    "# Calcul du coefficient de détermination (R-squared)\n",
    "ss_tot = np.sum((y - np.mean(y)) ** 2)\n",
    "r_squared = 1 - (rss / ss_tot)\n",
    "r_squared = round(r_squared, 2)\n",
    "print(f'R-squared: {r_squared}')"
   ]
  },
  {
   "cell_type": "code",
   "execution_count": null,
   "id": "ab32ca91-4a5b-489c-893a-658f9679e273",
   "metadata": {},
   "outputs": [],
   "source": []
  },
  {
   "cell_type": "code",
   "execution_count": null,
   "id": "adfd1fef-50a0-4ab9-94e6-4ef1c04b1a70",
   "metadata": {},
   "outputs": [],
   "source": []
  },
  {
   "cell_type": "code",
   "execution_count": null,
   "id": "05d97cb3-e85c-4d39-b34a-244ee9e99a85",
   "metadata": {},
   "outputs": [],
   "source": []
  }
 ],
 "metadata": {
  "kernelspec": {
   "display_name": "Python 3 (ipykernel)",
   "language": "python",
   "name": "python3"
  },
  "language_info": {
   "codemirror_mode": {
    "name": "ipython",
    "version": 3
   },
   "file_extension": ".py",
   "mimetype": "text/x-python",
   "name": "python",
   "nbconvert_exporter": "python",
   "pygments_lexer": "ipython3",
   "version": "3.11.7"
  }
 },
 "nbformat": 4,
 "nbformat_minor": 5
}
